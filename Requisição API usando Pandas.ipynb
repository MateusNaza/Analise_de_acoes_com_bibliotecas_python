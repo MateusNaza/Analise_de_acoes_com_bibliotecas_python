{
 "cells": [
  {
   "cell_type": "markdown",
   "metadata": {
    "application/vnd.databricks.v1+cell": {
     "cellMetadata": {
      "byteLimit": 2048000,
      "rowLimit": 10000
     },
     "inputWidgets": {},
     "nuid": "ded2ca6b-fd0f-4d85-bf39-4a1758b450eb",
     "showTitle": false,
     "title": ""
    }
   },
   "source": [
    "## Requisição API usando Pandas\n",
    "\n",
    "Documentação: https://brapi.dev/docs/acoes/list#search-opcional"
   ]
  },
  {
   "cell_type": "markdown",
   "metadata": {
    "application/vnd.databricks.v1+cell": {
     "cellMetadata": {
      "byteLimit": 2048000,
      "rowLimit": 10000
     },
     "inputWidgets": {},
     "nuid": "1abc96f9-dfc3-49c6-9088-13a7ce84a691",
     "showTitle": false,
     "title": ""
    }
   },
   "source": [
    "### 1- Imports"
   ]
  },
  {
   "cell_type": "code",
   "execution_count": null,
   "metadata": {
    "application/vnd.databricks.v1+cell": {
     "cellMetadata": {
      "byteLimit": 2048000,
      "rowLimit": 10000
     },
     "inputWidgets": {},
     "nuid": "6d574922-9c23-429b-88ee-99ec5882fe10",
     "showTitle": false,
     "title": ""
    }
   },
   "outputs": [],
   "source": [
    "import pandas as pd\n",
    "import requests\n",
    "import matplotlib.pyplot as plt\n",
    "import seaborn as sns"
   ]
  },
  {
   "cell_type": "markdown",
   "metadata": {
    "application/vnd.databricks.v1+cell": {
     "cellMetadata": {
      "byteLimit": 2048000,
      "rowLimit": 10000
     },
     "inputWidgets": {},
     "nuid": "4a6758bd-40d4-45e0-af02-fab237ba3365",
     "showTitle": false,
     "title": ""
    }
   },
   "source": [
    "### 2- Consumindo dados da API"
   ]
  },
  {
   "cell_type": "code",
   "execution_count": null,
   "metadata": {
    "application/vnd.databricks.v1+cell": {
     "cellMetadata": {
      "byteLimit": 2048000,
      "rowLimit": 10000
     },
     "inputWidgets": {},
     "nuid": "0d6bc2c6-2188-4aaa-b3b4-f18db6380534",
     "showTitle": false,
     "title": ""
    }
   },
   "outputs": [],
   "source": [
    "url = 'https://brapi.dev/api/quote/list?'\n",
    "\n",
    "params = {\n",
    "    'token': 'Utilize_seu_token',\n",
    "    'sortBy': 'volume',\n",
    "    'sortOrder': 'desc'\n",
    "}\n",
    "response = requests.get(url, params=params)\n",
    "data = response.json()['stocks']\n",
    "\n",
    "df = pd.DataFrame(data)"
   ]
  },
  {
   "cell_type": "markdown",
   "metadata": {
    "application/vnd.databricks.v1+cell": {
     "cellMetadata": {
      "byteLimit": 2048000,
      "rowLimit": 10000
     },
     "inputWidgets": {},
     "nuid": "5dd665f0-391b-4fed-8457-19d594db1135",
     "showTitle": false,
     "title": ""
    }
   },
   "source": [
    "### 3- Limpando e preparando dados"
   ]
  },
  {
   "cell_type": "code",
   "execution_count": null,
   "metadata": {
    "application/vnd.databricks.v1+cell": {
     "cellMetadata": {
      "byteLimit": 2048000,
      "rowLimit": 10000
     },
     "inputWidgets": {},
     "nuid": "e0846a26-786d-4f2c-843a-3c16929a9e19",
     "showTitle": false,
     "title": ""
    }
   },
   "outputs": [
    {
     "name": "stdout",
     "output_type": "stream",
     "text": [
      "<class 'pandas.core.frame.DataFrame'>\n",
      "RangeIndex: 1693 entries, 0 to 1692\n",
      "Data columns (total 9 columns):\n",
      " #   Column      Non-Null Count  Dtype  \n",
      "---  ------      --------------  -----  \n",
      " 0   stock       1693 non-null   object \n",
      " 1   name        1693 non-null   object \n",
      " 2   close       1693 non-null   float64\n",
      " 3   change      1691 non-null   float64\n",
      " 4   volume      1693 non-null   int64  \n",
      " 5   market_cap  1156 non-null   float64\n",
      " 6   logo        1693 non-null   object \n",
      " 7   sector      1288 non-null   object \n",
      " 8   type        1693 non-null   object \n",
      "dtypes: float64(3), int64(1), object(5)\n",
      "memory usage: 119.2+ KB\n",
      "Out[85]: stock           0\n",
      "name            0\n",
      "close           0\n",
      "change          2\n",
      "volume          0\n",
      "market_cap    537\n",
      "logo            0\n",
      "sector        405\n",
      "type            0\n",
      "dtype: int64"
     ]
    }
   ],
   "source": [
    "df.info()          # Visualização geral dos dados contidos no DF\n",
    "df.isnull().sum()  # Verificação de quais colunas contem dados que estão nulos e a quantidade"
   ]
  },
  {
   "cell_type": "markdown",
   "metadata": {
    "application/vnd.databricks.v1+cell": {
     "cellMetadata": {
      "byteLimit": 2048000,
      "rowLimit": 10000
     },
     "inputWidgets": {},
     "nuid": "d4bbadc5-6b12-485d-975e-2f04d18bbae2",
     "showTitle": false,
     "title": ""
    }
   },
   "source": [
    "#### 3.1- Coluna Change"
   ]
  },
  {
   "cell_type": "code",
   "execution_count": null,
   "metadata": {
    "application/vnd.databricks.v1+cell": {
     "cellMetadata": {
      "byteLimit": 2048000,
      "rowLimit": 10000
     },
     "inputWidgets": {},
     "nuid": "5611679c-59e5-4b1d-a61f-3e0d4fa5d1f4",
     "showTitle": false,
     "title": ""
    }
   },
   "outputs": [],
   "source": [
    "df[df['change'].isnull()]           # Vizualizando as linhas com valores nulos da coluna 'Change'\n",
    "df = df.dropna(subset=['change'])   # Removi apenas os nulos da coluna 'Change'"
   ]
  },
  {
   "cell_type": "markdown",
   "metadata": {
    "application/vnd.databricks.v1+cell": {
     "cellMetadata": {
      "byteLimit": 2048000,
      "rowLimit": 10000
     },
     "inputWidgets": {},
     "nuid": "4da7b769-5ea9-4527-871e-0c5260365ec6",
     "showTitle": false,
     "title": ""
    }
   },
   "source": [
    "#### 3.2- Coluna Type"
   ]
  },
  {
   "cell_type": "code",
   "execution_count": null,
   "metadata": {
    "application/vnd.databricks.v1+cell": {
     "cellMetadata": {
      "byteLimit": 2048000,
      "rowLimit": 10000
     },
     "inputWidgets": {},
     "nuid": "78c0fe9c-f558-4349-af8e-9f5b3ae5ed99",
     "showTitle": false,
     "title": ""
    }
   },
   "outputs": [],
   "source": [
    "# Verificando quais valores a coluna type tem\n",
    "df['type'].unique()\n",
    "\n",
    "# Gerando dicionário com os valores verificados acima e as respectivas traduções\n",
    "dict_type = {'stock': 'acao', 'fund': 'fundo', 'bdr': 'bdr'}\n",
    "\n",
    "# Sobrescrevendo o DF com os valores do dicionário\n",
    "df['type'] = df['type'].map(dict_type)"
   ]
  },
  {
   "cell_type": "markdown",
   "metadata": {
    "application/vnd.databricks.v1+cell": {
     "cellMetadata": {
      "byteLimit": 2048000,
      "rowLimit": 10000
     },
     "inputWidgets": {},
     "nuid": "2d106192-7cf5-4027-87ce-e941ca418396",
     "showTitle": false,
     "title": ""
    }
   },
   "source": [
    "#### 3.3- Coluna Sector"
   ]
  },
  {
   "cell_type": "code",
   "execution_count": null,
   "metadata": {
    "application/vnd.databricks.v1+cell": {
     "cellMetadata": {
      "byteLimit": 2048000,
      "rowLimit": 10000
     },
     "inputWidgets": {},
     "nuid": "d0a18c01-5e56-4329-b150-b6f5008c9d75",
     "showTitle": false,
     "title": ""
    }
   },
   "outputs": [],
   "source": [
    "# Rodei essa linha com os 3 tipos de papeis, e como a coluna 'sector' será importante apenas para 'Acoes' e nessa configuração não possui valores Nulos, decidi não tratá-los\n",
    "df[df['sector'].isnull() & (df['type'] == 'Acao')]\n",
    "\n",
    "# Fiz o mesmo tratamento da coluna Type\n",
    "df['sector'].unique()\n",
    "\n",
    "dict_sector = {\n",
    "    'Retail Trade': 'Comércio Varejista', 'Health Services': 'Serviços de Saúde', 'Finance': 'Finanças', 'Non-Energy Minerals': 'Minerais Não Energéticos', 'Energy Minerals': 'Minerais Energéticos', 'Consumer Non-Durables': 'Bens de Consumo Não Duráveis', 'Technology Services': 'Serviços de Tecnologia', 'Commercial Services': 'Serviços Comerciais', 'Utilities': 'Serviços Públicos',\n",
    "    'Transportation': 'Transporte', 'Consumer Services': 'Serviços ao Consumidor', 'Process Industries': 'Indústrias de Processo', 'Miscellaneous': 'Diversos', 'Distribution Services': 'Serviços de Distribuição', 'Producer Manufacturing': 'Manufatura de Produtores', 'Electronic Technology': 'Tecnologia Eletrônica', 'Health Technology': 'Tecnologia de Saúde', 'Communications': 'Comunicações', 'Industrial Services': 'Serviços Industriais', 'Consumer Durables': 'Bens de Consumo Duráveis'\n",
    "}\n",
    "\n",
    "df['sector'] = df['sector'].map(dict_sector)"
   ]
  },
  {
   "cell_type": "markdown",
   "metadata": {
    "application/vnd.databricks.v1+cell": {
     "cellMetadata": {
      "byteLimit": 2048000,
      "rowLimit": 10000
     },
     "inputWidgets": {},
     "nuid": "ecb4da81-e991-45ab-a0f3-97d0791009c0",
     "showTitle": false,
     "title": ""
    }
   },
   "source": [
    "### 4- Gerando novos Dataframes (Ações, Fundos e BDR's)\n",
    "Para análises futuras pode ser interessante separar um dataframe para cada tipo de papel"
   ]
  },
  {
   "cell_type": "code",
   "execution_count": null,
   "metadata": {
    "application/vnd.databricks.v1+cell": {
     "cellMetadata": {
      "byteLimit": 2048000,
      "rowLimit": 10000
     },
     "inputWidgets": {},
     "nuid": "b0ec5957-5f3e-4c65-8065-29cd5ae2450f",
     "showTitle": false,
     "title": ""
    }
   },
   "outputs": [
    {
     "name": "stdout",
     "output_type": "stream",
     "text": [
      "Out[89]: '\\nFORAM GERADOS 3 NOVOS DATAFRAMES:\\n* df_acao\\n* df_fundo\\n*df_bdr\\n'"
     ]
    }
   ],
   "source": [
    "# ********* SE LIGA NESSA CÉLULA, FICOU MUITO TOP A LÓGICA *********\n",
    "\n",
    "# Gerei uma lista com os valores de type ['acao', 'fundo', 'bdr']\n",
    "paper_type = df['type'].unique()\n",
    "\n",
    "# Essa função está usando o método globals() para gerar os dataframes com nome dinâmicos usando como base a lista definida acima\n",
    "def group_for_type(dataframe, paper_type):\n",
    "\n",
    "    globals()[f'df_{paper_type}'] = dataframe[dataframe['type'] == paper_type]\n",
    "    return globals()[f'df_{paper_type}']\n",
    "\n",
    "# Aqui iterei sobre cada valor da lista chamando a função e usando o valor como parâmetro\n",
    "for paper in paper_type:\n",
    "    group_for_type(df, paper)\n",
    "\n",
    "\n",
    "\"\"\"\n",
    "FORAM GERADOS 3 NOVOS DATAFRAMES:\n",
    "* df_acao\n",
    "* df_fundo\n",
    "* df_bdr\n",
    "\"\"\""
   ]
  }
 ],
 "metadata": {
  "application/vnd.databricks.v1+notebook": {
   "dashboards": [],
   "language": "python",
   "notebookMetadata": {
    "pythonIndentUnit": 4
   },
   "notebookName": "Requisição API usando Pandas",
   "widgets": {}
  },
  "language_info": {
   "name": "python"
  }
 },
 "nbformat": 4,
 "nbformat_minor": 0
}
